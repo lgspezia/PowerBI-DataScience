{
  "nbformat": 4,
  "nbformat_minor": 0,
  "metadata": {
    "colab": {
      "provenance": [],
      "authorship_tag": "ABX9TyPyVR3KVgrEA6g4MyL80kKG",
      "include_colab_link": true
    },
    "kernelspec": {
      "name": "python3",
      "display_name": "Python 3"
    },
    "language_info": {
      "name": "python"
    }
  },
  "cells": [
    {
      "cell_type": "markdown",
      "metadata": {
        "id": "view-in-github",
        "colab_type": "text"
      },
      "source": [
        "<a href=\"https://colab.research.google.com/github/lgspezia/PowerBI-DataScience/blob/master/big_query_example.ipynb\" target=\"_parent\"><img src=\"https://colab.research.google.com/assets/colab-badge.svg\" alt=\"Open In Colab\"/></a>"
      ]
    },
    {
      "cell_type": "code",
      "execution_count": 1,
      "metadata": {
        "colab": {
          "base_uri": "https://localhost:8080/"
        },
        "id": "P2zWGpoi79ym",
        "outputId": "357c80f4-d004-4b7d-83fe-184a2f332c95"
      },
      "outputs": [
        {
          "output_type": "stream",
          "name": "stdout",
          "text": [
            "Collecting google.cloud\n",
            "  Downloading google_cloud-0.34.0-py2.py3-none-any.whl (1.8 kB)\n",
            "Installing collected packages: google.cloud\n",
            "Successfully installed google.cloud-0.34.0\n"
          ]
        }
      ],
      "source": [
        "pip install google.cloud\n"
      ]
    },
    {
      "cell_type": "code",
      "source": [
        "from google.cloud import bigquery\n"
      ],
      "metadata": {
        "id": "Bad-HMaK8f1Q"
      },
      "execution_count": null,
      "outputs": []
    },
    {
      "cell_type": "code",
      "source": [
        "from google.colab import auth\n"
      ],
      "metadata": {
        "id": "BtFQKRQO8ugk"
      },
      "execution_count": null,
      "outputs": []
    },
    {
      "cell_type": "code",
      "source": [
        "auth.authenticate_user()\n"
      ],
      "metadata": {
        "id": "Os5vq44W82_A"
      },
      "execution_count": null,
      "outputs": []
    },
    {
      "cell_type": "code",
      "source": [
        "project_id = 'level-calculus-287720'\n",
        "\n",
        "dataset_id = 'mega_sena_csv'\n",
        "\n",
        "table_id = 'csv_file'\n",
        "\n",
        "client = bigquery.Client(project = project_id)\n",
        "\n",
        "file_path = 'userdata.parquet';\n",
        "\n",
        "email = client.query( '''  SELECT * FROM level-calculus-287720.mega_sena_csv.mega_sena_v2 LIMIT 100 ''' )\n",
        "\n",
        "email\n"
      ],
      "metadata": {
        "colab": {
          "base_uri": "https://localhost:8080/"
        },
        "id": "TmO3F6GrAMz3",
        "outputId": "19a36f8b-f835-46f5-aaf7-116bccf16f22"
      },
      "execution_count": null,
      "outputs": [
        {
          "output_type": "execute_result",
          "data": {
            "text/plain": [
              "QueryJob<project=level-calculus-287720, location=US, id=9670f8c2-9d6f-4b38-a26a-330f52b8d76a>"
            ]
          },
          "metadata": {},
          "execution_count": 13
        }
      ]
    },
    {
      "cell_type": "code",
      "source": [
        "email"
      ],
      "metadata": {
        "colab": {
          "base_uri": "https://localhost:8080/"
        },
        "id": "nFgXpi2cKUIP",
        "outputId": "6deb9e0c-b255-4a81-f0ec-3287c844568a"
      },
      "execution_count": null,
      "outputs": [
        {
          "output_type": "execute_result",
          "data": {
            "text/plain": [
              "QueryJob<project=level-calculus-287720, location=US, id=9670f8c2-9d6f-4b38-a26a-330f52b8d76a>"
            ]
          },
          "metadata": {},
          "execution_count": 17
        }
      ]
    },
    {
      "cell_type": "code",
      "source": [
        "file_path = 'userdata.parquet';\n",
        "\n",
        "job_config = bigquery.LoadJobConfig(\n",
        "    source_format = bigquery.SourceFormat.PARQUET\n",
        ")\n",
        "\n",
        "with open(file_path,\"rb\") as source_file:\n",
        "     job = client.load_table_from_file(\n",
        "         source_file,\n",
        "         dataset_id + '.' + table_id,\n",
        "         job_config = job_config,\n",
        "     )\n",
        "job.result()"
      ],
      "metadata": {
        "colab": {
          "base_uri": "https://localhost:8080/",
          "height": 211
        },
        "id": "yUGtKWffLwZJ",
        "outputId": "83d1ecf9-4700-4c67-86eb-73497ccfd80f"
      },
      "execution_count": null,
      "outputs": [
        {
          "output_type": "error",
          "ename": "FileNotFoundError",
          "evalue": "[Errno 2] No such file or directory: 'userdata.parquet'",
          "traceback": [
            "\u001b[0;31m---------------------------------------------------------------------------\u001b[0m",
            "\u001b[0;31mFileNotFoundError\u001b[0m                         Traceback (most recent call last)",
            "\u001b[0;32m<ipython-input-19-8073442cb563>\u001b[0m in \u001b[0;36m<cell line: 7>\u001b[0;34m()\u001b[0m\n\u001b[1;32m      5\u001b[0m )\n\u001b[1;32m      6\u001b[0m \u001b[0;34m\u001b[0m\u001b[0m\n\u001b[0;32m----> 7\u001b[0;31m \u001b[0;32mwith\u001b[0m \u001b[0mopen\u001b[0m\u001b[0;34m(\u001b[0m\u001b[0mfile_path\u001b[0m\u001b[0;34m,\u001b[0m\u001b[0;34m\"rb\"\u001b[0m\u001b[0;34m)\u001b[0m \u001b[0;32mas\u001b[0m \u001b[0msource_file\u001b[0m\u001b[0;34m:\u001b[0m\u001b[0;34m\u001b[0m\u001b[0;34m\u001b[0m\u001b[0m\n\u001b[0m\u001b[1;32m      8\u001b[0m      job = client.load_table_from_file(\n\u001b[1;32m      9\u001b[0m          \u001b[0msource_file\u001b[0m\u001b[0;34m,\u001b[0m\u001b[0;34m\u001b[0m\u001b[0;34m\u001b[0m\u001b[0m\n",
            "\u001b[0;31mFileNotFoundError\u001b[0m: [Errno 2] No such file or directory: 'userdata.parquet'"
          ]
        }
      ]
    },
    {
      "cell_type": "code",
      "source": [],
      "metadata": {
        "id": "rBBumz1xNAzw"
      },
      "execution_count": null,
      "outputs": []
    }
  ]
}